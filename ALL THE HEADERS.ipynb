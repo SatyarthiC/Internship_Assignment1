#!/usr/bin/env python
# coding: utf-8

# # Write a python program to display all the header tags from ‘en.wikipedia.org/wiki/Main_Page’.

# In[1]:


from urllib.request import urlopen
from bs4 import BeautifulSoup
html = urlopen('https://en.wikipedia.org/wiki/Main_Page')
bs = BeautifulSoup(html, "html.parser")
titles = bs.find_all(['h1', 'h2','h3','h4','h5','h6'])
print('ALL THE HEADERS :', *titles, sep='\n\n')


# In[ ]:




